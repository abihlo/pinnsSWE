{
  "nbformat": 4,
  "nbformat_minor": 0,
  "metadata": {
    "accelerator": "GPU",
    "colab": {
      "name": "shallowWaterSphereMultiModelNonlinearFlowv2.ipynb",
      "provenance": [],
      "collapsed_sections": []
    },
    "kernelspec": {
      "display_name": "Python 3",
      "name": "python3"
    }
  },
  "cells": [
    {
      "cell_type": "code",
      "metadata": {
        "colab": {
          "base_uri": "https://localhost:8080/"
        },
        "id": "3QJy11N3hYin",
        "outputId": "facc5276-9a7b-45e7-fbd4-11b9e4a2b1a5"
      },
      "source": [
        "!pip install pyDOE\n",
        "!pip install tensorflow_addons"
      ],
      "execution_count": null,
      "outputs": [
        {
          "output_type": "stream",
          "text": [
            "Collecting pyDOE\n",
            "  Downloading https://files.pythonhosted.org/packages/bc/ac/91fe4c039e2744466621343d3b8af4a485193ed0aab53af5b1db03be0989/pyDOE-0.3.8.zip\n",
            "Requirement already satisfied: numpy in /usr/local/lib/python3.7/dist-packages (from pyDOE) (1.19.5)\n",
            "Requirement already satisfied: scipy in /usr/local/lib/python3.7/dist-packages (from pyDOE) (1.4.1)\n",
            "Building wheels for collected packages: pyDOE\n",
            "  Building wheel for pyDOE (setup.py) ... \u001b[?25l\u001b[?25hdone\n",
            "  Created wheel for pyDOE: filename=pyDOE-0.3.8-cp37-none-any.whl size=18178 sha256=4d388cdec34fe3b414cfdb31e70eb162e20244daed4495c952e3587b7a31c357\n",
            "  Stored in directory: /root/.cache/pip/wheels/7c/c8/58/a6493bd415e8ba5735082b5e0c096d7c1f2933077a8ce34544\n",
            "Successfully built pyDOE\n",
            "Installing collected packages: pyDOE\n",
            "Successfully installed pyDOE-0.3.8\n",
            "Collecting tensorflow_addons\n",
            "\u001b[?25l  Downloading https://files.pythonhosted.org/packages/74/e3/56d2fe76f0bb7c88ed9b2a6a557e25e83e252aec08f13de34369cd850a0b/tensorflow_addons-0.12.1-cp37-cp37m-manylinux2010_x86_64.whl (703kB)\n",
            "\u001b[K     |████████████████████████████████| 706kB 7.5MB/s \n",
            "\u001b[?25hRequirement already satisfied: typeguard>=2.7 in /usr/local/lib/python3.7/dist-packages (from tensorflow_addons) (2.7.1)\n",
            "Installing collected packages: tensorflow-addons\n",
            "Successfully installed tensorflow-addons-0.12.1\n"
          ],
          "name": "stdout"
        }
      ]
    },
    {
      "cell_type": "code",
      "metadata": {
        "id": "Fytv-j1AIppX"
      },
      "source": [
        "import tensorflow as tf\n",
        "import tensorflow_addons as tfa\n",
        "import numpy as np\n",
        "from pyDOE import lhs\n",
        "import matplotlib.pyplot as plt \n",
        "import imageio\n",
        "import os\n",
        "from google.colab import files\n",
        "\n",
        "plt.rcParams.update({'font.size': 14})\n",
        "tf.keras.backend.set_floatx('float64')"
      ],
      "execution_count": null,
      "outputs": []
    },
    {
      "cell_type": "code",
      "metadata": {
        "id": "atN9WmS7gFuf"
      },
      "source": [
        "# Gravitational constant\n",
        "g = tf.constant(9.80616, dtype=tf.float64)\n",
        "\n",
        "# Radius of Earth\n",
        "a = tf.constant(6.37122e6, dtype=tf.float64)\n",
        "\n",
        "# Angular velocity\n",
        "Omega = tf.constant(7.292e-5, dtype=tf.float64)"
      ],
      "execution_count": null,
      "outputs": []
    },
    {
      "cell_type": "code",
      "metadata": {
        "id": "gN8656JgnLHc"
      },
      "source": [
        "# Scales of problem\n",
        "T = 86400\n",
        "L = a.numpy()\n",
        "U = L/T\n",
        "HH = a.numpy()**2/(T**2*g.numpy())"
      ],
      "execution_count": null,
      "outputs": []
    },
    {
      "cell_type": "code",
      "metadata": {
        "id": "cKWsx_JSIgVD"
      },
      "source": [
        "# Choose one of the Williamson test cases\n",
        "williamson = 2"
      ],
      "execution_count": null,
      "outputs": []
    },
    {
      "cell_type": "markdown",
      "metadata": {
        "id": "NM8Sb-6wQFMl"
      },
      "source": [
        "### Initial conditions"
      ]
    },
    {
      "cell_type": "code",
      "metadata": {
        "id": "PXRQ-Rlp2Elq"
      },
      "source": [
        "if williamson==2: # (Nonlinear geostrophic flow)\n",
        "  \n",
        "  days = 5\n",
        "  c = 1.0\n",
        "  H = c*HH\n",
        "  alpha, R, lmbd0, tht0 = 0.0, a.numpy()/3, 3*np.pi/2, 0.0\n",
        "  u00, h00 = 2*np.pi*a.numpy()/(12*86400), 2.94e4\n",
        "  v00 = u00\n",
        "\n",
        "  u0 = lambda lmbd, tht: u00*(np.cos(tht)*np.cos(alpha)+np.sin(tht)*np.cos(lmbd)*np.sin(alpha))/U\n",
        "  v0 = lambda lmbd, tht: -v00*np.sin(lmbd)*np.sin(alpha)/U\n",
        "  h0 = lambda lmbd, tht: (h00 - (a.numpy()*Omega.numpy()*u00+u00**2/2)*(-np.cos(lmbd)*np.cos(tht)*np.sin(alpha)+np.sin(tht)*np.cos(alpha))**2)/g.numpy()/H\n",
        "  hs0 = lambda lmbd, tht: tf.sin(0.0*lmbd) + tf.sin(0.0*tht)\n",
        "\n",
        "elif williamson==5: # (Flow over mountain)\n",
        "\n",
        "  days = 15\n",
        "  c = 1.0\n",
        "  H = c*HH\n",
        "  alpha, R, lmbd0, tht0 = 0.0, np.pi/9, 3*np.pi/2-2*np.pi, np.pi/6\n",
        "  u00, h00, hs00 = 20, 5960, 2000\n",
        "  v00 = u00\n",
        "\n",
        "  u0 = lambda lmbd, tht: u00*(np.cos(tht)*np.cos(alpha)+np.sin(tht)*np.cos(lmbd)*np.sin(alpha))/U\n",
        "  v0 = lambda lmbd, tht: -v00*np.sin(lmbd)*np.sin(alpha)/U\n",
        "  \n",
        "  r =  lambda lmbd, tht: tf.minimum(R**2, ((lmbd-lmbd0)**2+(tht-tht0)**2)**2)\n",
        "  hs0 = lambda lmbd, tht: hs00*(1.0-r(lmbd,tht)/R)/H\n",
        "  h0 = lambda lmbd, tht: (g.numpy()*h00 - (a.numpy()*Omega.numpy()*u00+u00**2/2)*(-np.cos(lmbd)*np.cos(tht)*np.sin(alpha)+np.sin(tht)*np.cos(alpha))**2)/g.numpy()/H\n",
        "  \n",
        "elif williamson==6: # (Rossby-Haurwitz wave)\n",
        "\n",
        "  days = 14\n",
        "  c = 20\n",
        "  H = c*HH\n",
        "  omega, R = 7.848e-6, 4\n",
        "  K, h00 = omega, 8000\n",
        "  \n",
        "  u0 = lambda lmbd, tht: (a.numpy()*omega*np.cos(tht) + a.numpy()*K*np.cos(tht)**(R-1)*(R*np.sin(tht)**2-np.cos(tht)**2)*np.cos(R*lmbd))/U\n",
        "  v0 = lambda lmbd, tht: -a.numpy()*K*R*np.cos(tht)**(R-1)*np.sin(tht)*np.sin(R*lmbd)/U\n",
        "\n",
        "  A = lambda tht: omega/2*(2*Omega.numpy()+omega)*np.cos(tht)**2+0.25*K**2*np.cos(tht)**(2*R)*((R+1)*np.cos(tht)**2 + (2*R**2-R-2)-2*R**2*np.cos(tht)**(-2))\n",
        "  B = lambda tht: 2*(Omega.numpy()+omega)*K/(R+1)/(R+2)*np.cos(tht)**R*((R**2+2*R+2) - (R+1)**2*np.cos(tht)**2)\n",
        "  C = lambda tht: 0.25*K**2*np.cos(tht)**(2*R)*((R+1)*np.cos(tht)**2 - (R+2))\n",
        "  h0 = lambda lmbd, tht: (g.numpy()*h00 + a.numpy()**2*A(tht)+a.numpy()**2*B(tht)*np.cos(R*lmbd)+a.numpy()**2*C(tht)*np.cos(2*R*lmbd))/g.numpy()/H\n",
        "  hs0 = lambda lmbd, tht: tf.sin(0.0*lmbd) + tf.sin(0.0*tht)"
      ],
      "execution_count": null,
      "outputs": []
    },
    {
      "cell_type": "markdown",
      "metadata": {
        "id": "xE76ohXBQKHW"
      },
      "source": [
        "### Plot initial conditions"
      ]
    },
    {
      "cell_type": "code",
      "metadata": {
        "id": "LbFdqaaU2AxO"
      },
      "source": [
        "# Boundaries of the computational domain\n",
        "lmbdleft, lmbdright = -np.pi, np.pi\n",
        "thtlower, thtupper = -np.pi/2, np.pi/2\n",
        "t0, tfinal = 0, days*86400/T"
      ],
      "execution_count": null,
      "outputs": []
    },
    {
      "cell_type": "code",
      "metadata": {
        "colab": {
          "base_uri": "https://localhost:8080/",
          "height": 338
        },
        "id": "yaw5kj8-GQs6",
        "outputId": "35736a96-ca9f-463d-b0e6-4a2c8d8140af"
      },
      "source": [
        "# Plot initial solution\n",
        "x = np.linspace(lmbdleft, lmbdright, 1000)\n",
        "y = np.linspace(thtlower, thtupper, 1000)\n",
        "X, Y = np.meshgrid(x, y)\n",
        "plt.figure(figsize=(15,5))\n",
        "plt.subplot(131)\n",
        "plt.contourf(360/2/np.pi*X, 360/2/np.pi*Y, H*h0(X,Y), 100, cmap=plt.cm.coolwarm)\n",
        "plt.colorbar()\n",
        "\n",
        "plt.subplot(132)\n",
        "plt.contourf(360/2/np.pi*X, 360/2/np.pi*Y, U*u0(X,Y), 100, cmap=plt.cm.coolwarm)\n",
        "plt.colorbar()\n",
        "\n",
        "plt.subplot(133)\n",
        "plt.contourf(360/2/np.pi*X, 360/2/np.pi*Y, v0(X,Y), 100, cmap=plt.cm.coolwarm)\n",
        "plt.colorbar()\n",
        "plt.show()"
      ],
      "execution_count": null,
      "outputs": [
        {
          "output_type": "display_data",
          "data": {
            "image/png": "[encoded data removed]",
            "text/plain": [
              "<Figure size 1080x360 with 6 Axes>"
            ]
          },
          "metadata": {
            "tags": [],
            "needs_background": "light"
          }
        }
      ]
    },
    {
      "cell_type": "markdown",
      "metadata": {
        "id": "9jmSGDHkRiz7"
      },
      "source": [
        "### Subclassing layers"
      ]
    },
    {
      "cell_type": "code",
      "metadata": {
        "id": "MlUVgw4GRkR8"
      },
      "source": [
        "class PeriodicSphere(tf.keras.layers.Layer):\n",
        "  def __init__(self, name=None, **kwargs):\n",
        "    super(PeriodicSphere, self).__init__(name=name)\n",
        "    super(PeriodicSphere, self).__init__(**kwargs)\n",
        "\n",
        "  def call(self, inputs):\n",
        "    return tf.concat((tf.cos(inputs[1])*tf.cos(inputs[0]),\n",
        "               tf.cos(inputs[1])*tf.sin(inputs[0]),\n",
        "               tf.sin(inputs[1])), axis=1)"
      ],
      "execution_count": null,
      "outputs": []
    },
    {
      "cell_type": "code",
      "metadata": {
        "id": "kPqDainTRutV"
      },
      "source": [
        "# Define the normalization layer\n",
        "class Normalize(tf.keras.layers.Layer):\n",
        "  def __init__(self, xmin, xmax, name=None, **kwargs):\n",
        "    super(Normalize, self).__init__(name=name)\n",
        "    self.xmin = xmin\n",
        "    self.xmax = xmax\n",
        "    super(Normalize, self).__init__(**kwargs)\n",
        "\n",
        "  def call(self, inputs):\n",
        "    return 2.0*(inputs-self.xmin)/(self.xmax-self.xmin)-1.0\n",
        "\n",
        "  def get_config(self):\n",
        "    config = super(Normalize, self).get_config()\n",
        "    config.update({'xmin': self.xmin, 'xmax': self.xmax})\n",
        "    return config"
      ],
      "execution_count": null,
      "outputs": []
    },
    {
      "cell_type": "markdown",
      "metadata": {
        "id": "1WTFFifUQNkN"
      },
      "source": [
        "### Define the network"
      ]
    },
    {
      "cell_type": "code",
      "metadata": {
        "id": "mFWp_CP5MNkR"
      },
      "source": [
        "def build_model(t0, tfinal, n_units=20, n_layers=4, summary=False):\n",
        "\n",
        "  # Define the network\n",
        "  inp1 = tf.keras.layers.Input(shape=(1,))\n",
        "  b1 = Normalize(t0, tfinal)(inp1)\n",
        "\n",
        "  inp2 = tf.keras.layers.Input(shape=(1,))\n",
        "  inp3 = tf.keras.layers.Input(shape=(1,))\n",
        "  b23 = PeriodicSphere()([inp2, inp3])\n",
        "\n",
        "  b = tf.keras.layers.Concatenate()([b1, b23])\n",
        "\n",
        "  for i in range(n_layers):\n",
        "    b = tf.keras.layers.Dense(n_units, 'tanh', kernel_initializer='glorot_normal')(b)\n",
        "  out = tf.keras.layers.Dense(3, activation='linear')(b)\n",
        "\n",
        "  model = tf.keras.models.Model([inp1, inp2, inp3], out)\n",
        "  \n",
        "  if summary:\n",
        "    model.summary()\n",
        "\n",
        "  return model"
      ],
      "execution_count": null,
      "outputs": []
    },
    {
      "cell_type": "markdown",
      "metadata": {
        "id": "u1umbTgH-Nk2"
      },
      "source": [
        "### Main NN training function"
      ]
    },
    {
      "cell_type": "code",
      "metadata": {
        "id": "cWjyekJ570sH"
      },
      "source": [
        "@tf.function\n",
        "def train_network(pdes, inits, hs0, c, model):\n",
        "                          \n",
        "  # -------------- Training loop -----------------------\n",
        "\n",
        "  # PDE points and associated self-adaptation weights\n",
        "  t_pde, x_pde, y_pde, f = pdes[:,:1], pdes[:,1:2], pdes[:,2:3], pdes[:,3:4]\n",
        "\n",
        "  # Initial value points and associated self-adaptation weights\n",
        "  t_init, x_init, y_init = inits[:,:1], inits[:,1:2], inits[:,2:3]\n",
        "  u_init, v_init, h_init =inits[:,3:4], inits[:,4:5], inits[:,5:6]\n",
        "\n",
        "  # ----------- Train the network ----------------\n",
        "\n",
        "  # Outer gradient for tuning network parameters\n",
        "  with tf.GradientTape(persistent=True) as tape:\n",
        "\n",
        "    # Inner gradient for derivatives of u wrt x and t\n",
        "    with tf.GradientTape(persistent=True) as tape2:\n",
        "          \n",
        "      tape2.watch(t_pde), tape2.watch(x_pde), tape2.watch(y_pde)\n",
        "          \n",
        "      uvh = model([t_pde, x_pde, y_pde], training=True)\n",
        "      u, v, h = uvh[:,:1], uvh[:,1:2], uvh[:,2:]\n",
        "      hs = hs0(x_pde, y_pde)\n",
        "      vcostht = v*tf.cos(y_pde)\n",
        "\n",
        "    # Derivatives needed to define the SWE\n",
        "    [dudt, dudx, dudy] = tape2.gradient(u, [t_pde, x_pde, y_pde])\n",
        "    [dvdt, dvdx, dvdy] = tape2.gradient(v, [t_pde, x_pde, y_pde])\n",
        "    [dhdt, dhdx, dhdy] = tape2.gradient(h, [t_pde, x_pde, y_pde])\n",
        "    [dhsdx, dhsdy] = tape2.gradient(hs, [x_pde, y_pde])\n",
        "    [dvcosthtdy] = tape2.gradient(vcostht, [y_pde])\n",
        "\n",
        "    #  Solve the shallow-water equations\n",
        "    eqnu = dudt + u/tf.cos(y_pde)*dudx + v*dudy - (f+u*tf.tan(y_pde))*v + c/tf.cos(y_pde)*dhdx\n",
        "    eqnv = dvdt + u/tf.cos(y_pde)*dvdx + v*dvdy + (f+u*tf.tan(y_pde))*u + c*dhdy\n",
        "    eqnh = dhdt + u/tf.cos(y_pde)*dhdx + v*dhdy + h/tf.cos(y_pde)*(dudx + dvcosthtdy) \n",
        "\n",
        "    # Define the PDE loss  \n",
        "    PDEloss_u = tf.reduce_mean(tf.square(eqnu))\n",
        "    PDEloss_v = tf.reduce_mean(tf.square(eqnv))\n",
        "    PDEloss_h = tf.reduce_mean(tf.square(eqnh))\n",
        "\n",
        "    PDEloss = PDEloss_u + PDEloss_v + PDEloss_h\n",
        "\n",
        "    # Define the initial value loss\n",
        "    uvh_init_pred = model([t_init, x_init, y_init], training=True)\n",
        "    u_init_pred, v_init_pred, h_init_pred = uvh_init_pred[:,:1], uvh_init_pred[:,1:2], uvh_init_pred[:,2:] \n",
        "        \n",
        "    ICloss_u = tf.reduce_mean(tf.square(u_init-u_init_pred))\n",
        "    ICloss_v = tf.reduce_mean(tf.square(v_init-v_init_pred))\n",
        "    ICloss_h = tf.reduce_mean(tf.square(h_init-h_init_pred))\n",
        "\n",
        "    ICloss = ICloss_u + ICloss_v + ICloss_h                  \n",
        "\n",
        "  # Compute loss weighting\n",
        "  gradPDE = tape.gradient(PDEloss, model.trainable_variables)\n",
        "  gradIVP = tape.gradient(ICloss, model.trainable_variables)\n",
        "  gradPDE_f = tf.concat([tf.reshape(p, [-1]) for p in gradPDE], axis=0)\n",
        "  gradIVP_f = tf.concat([tf.reshape(p, [-1]) for p in gradIVP], axis=0)\n",
        "\n",
        "  # Project conflicting gradients\n",
        "  if tf.reduce_sum(tf.multiply(gradIVP_f, gradPDE_f)) < 0:\n",
        "    if tf.random.uniform([1]) < 0.5:\n",
        "      proj = tf.reduce_sum(tf.multiply(gradPDE_f, gradIVP_f))/tf.reduce_sum(tf.square(gradIVP_f))\n",
        "      gradPDE = [gPDE - proj*gIVP for gPDE, gIVP in zip(gradPDE, gradIVP)]\n",
        "    else:\n",
        "      proj = tf.reduce_sum(tf.multiply(gradPDE_f, gradIVP_f))/tf.reduce_sum(tf.square(gradPDE_f))\n",
        "      gradIVP = [gIVP - proj*gPDE for gPDE, gIVP in zip(gradPDE, gradIVP)]\n",
        "\n",
        "  # Compute the gradient of the global loss wrt the model parameters\n",
        "  grads = [gPDE+gIVP for gPDE, gIVP in zip(gradPDE, gradIVP)]\n",
        "    \n",
        "  return PDEloss, ICloss, grads"
      ],
      "execution_count": null,
      "outputs": []
    },
    {
      "cell_type": "markdown",
      "metadata": {
        "id": "8yv-1Priithf"
      },
      "source": [
        "### Define the collocation points"
      ]
    },
    {
      "cell_type": "code",
      "metadata": {
        "id": "nufLxFEFis5i"
      },
      "source": [
        "def defineCollocationPoints(t_bdry, x_bdry, y_bdry, u0, v0, h0, N_pde=50000, N_iv=10000):\n",
        "\n",
        "  # Convert input to numpy array\n",
        "  t_bdry, x_bdry, y_bdry = np.array(t_bdry), np.array(x_bdry), np.array(y_bdry)\n",
        "  \n",
        "  # Uniform random sampling on a sphere\n",
        "  txy_min = np.array([t_bdry[0], x_bdry[0], 0])\n",
        "  txy_max = np.array([t_bdry[1], x_bdry[1], 1])  \n",
        "  pde_points = txy_min + (txy_max - txy_min)*lhs(3, N_pde)\n",
        "  t_pde = pde_points[:, 0] \n",
        "  x_pde = pde_points[:, 1]\n",
        "  y_pde = np.arccos(1-2*pde_points[:, 2]) + y_bdry[0]\n",
        "\n",
        "  f = 2*Omega*T*np.sin(y_pde)\n",
        "  \n",
        "  # Stack all the PDE point data together\n",
        "  pdes = np.column_stack([t_pde, x_pde, y_pde, f]).astype(np.float64)\n",
        "  pdes = pdes[np.argsort(pdes[:,0])]  \n",
        "\n",
        "  # Uniform random sampling on a sphere for initial values\n",
        "  init_points = txy_min[1:] + (txy_max[1:] - txy_min[1:])*lhs(2, N_iv)\n",
        "  x_init = init_points[:, 0]\n",
        "  y_init = np.arccos(1-2*init_points[:, 1]) + y_bdry[0]\n",
        "  t_init = t_bdry[0]+0*x_init\n",
        "\n",
        "  # Stack all the ivp data together\n",
        "  inits = np.column_stack([t_init, x_init, y_init]).astype(np.float64)\n",
        "\n",
        "  return (pdes, f, inits)"
      ],
      "execution_count": null,
      "outputs": []
    },
    {
      "cell_type": "code",
      "metadata": {
        "id": "lovMWFQskX9Y"
      },
      "source": [
        "N_pde, N_iv = 1000, 100\n",
        "(pdes, f, inits) = defineCollocationPoints([t0, tfinal], [lmbdleft, lmbdright], [thtlower, thtupper], u0, v0, h0, N_pde, N_iv)"
      ],
      "execution_count": null,
      "outputs": []
    },
    {
      "cell_type": "markdown",
      "metadata": {
        "id": "bEZ5Asm6-Qys"
      },
      "source": [
        "### Main training routine"
      ]
    },
    {
      "cell_type": "code",
      "metadata": {
        "id": "YCjR0-DZQvnO"
      },
      "source": [
        "def PINNtrain(pde_points, f, inits, hs0, c, epochs=10000):\n",
        "\n",
        "  N_pde, N_iv = len(pde_points), len(inits)\n",
        "\n",
        "  # Batch sizes\n",
        "  bs_pdes, bs_inits = N_pde//1, N_iv//1\n",
        "\n",
        "  # Boundaries for the models\n",
        "  # model_boundaries = [5000*i for i in range(epochs//5000+1)]\n",
        "  model_boundaries = [0,epochs]\n",
        "  lr_model = [1e-3]\n",
        "  nr_boundaries = len(model_boundaries)-1\n",
        "  k = 0\n",
        "\n",
        "  # initial value points\n",
        "  t_init, x_init, y_init = inits[:,0], inits[:,1], inits[:,2]\n",
        "\n",
        "  epoch_loss = np.zeros(epochs)\n",
        "  nr_batches = 0\n",
        "\n",
        "  # Main training loop\n",
        "  for i in range(epochs):\n",
        "\n",
        "    # Train a new model\n",
        "    if np.mod(i, model_boundaries[k]) == 0:\n",
        "      k +=1\n",
        "\n",
        "      # Generate the tf.Dataset for the initial data\n",
        "      if k==1: # Use the actual initial conditions\n",
        "        u_init = u0(x_init, y_init)\n",
        "        v_init = v0(x_init, y_init)\n",
        "        h_init = h0(x_init, y_init)\n",
        "      else: # Use the previous model\n",
        "        t_init = (k-1)*tfinal/nr_boundaries + 0*t_init\n",
        "        uvh = model([np.expand_dims(t_init, axis=1), \n",
        "                     np.expand_dims(x_init, axis=1), \n",
        "                     np.expand_dims(y_init, axis=1)]) \n",
        "        u_init, v_init, h_init = uvh[:,0], uvh[:,1], uvh[:,2]  \n",
        "\n",
        "        # Save the previous model\n",
        "        fname = \"model\" + str(k-1) + \".h5\"\n",
        "        model.save(fname)\n",
        "\n",
        "      inits = np.column_stack([t_init, x_init, y_init, u_init, v_init, h_init])\n",
        "\n",
        "      ds_init = tf.data.Dataset.from_tensor_slices(inits)\n",
        "      ds_init = ds_init.cache().shuffle(N_iv).batch(bs_inits)\n",
        "  \n",
        "      # Generate the tf.Dataset for the collocation points\n",
        "      N_ds = k*N_pde//nr_boundaries\n",
        "      N_ds_ = (k-1)*N_pde//nr_boundaries\n",
        "      pts = pde_points[N_ds_:N_ds]\n",
        "      t_min, t_max = pts[:,0].min(), pts[:,0].max()\n",
        "\n",
        "      ds_pde = tf.data.Dataset.from_tensor_slices(pde_points[N_ds_:N_ds])\n",
        "      ds_pde = ds_pde.cache().shuffle(N_ds-N_ds_).batch(bs_pdes)\n",
        "      ds = tf.data.Dataset.zip((ds_pde, ds_init))\n",
        "      ds = ds.prefetch(tf.data.experimental.AUTOTUNE)\n",
        "\n",
        "      # Generate a new model\n",
        "      opt = tf.keras.optimizers.Adam(lr_model[k-1])\n",
        "      model = build_model(t_min, t_max) \n",
        "\n",
        "      # Copy over weights from old model\n",
        "      if k>1:\n",
        "        print(\"Copy over weights from previous model...\")\n",
        "        fname = \"model\" + str(k-1) + \".h5\"\n",
        "        model_ = tf.keras.models.load_model(fname, custom_objects={'Normalize': Normalize, \n",
        "                                                                   'PeriodicSphere': PeriodicSphere})\n",
        "        model.set_weights(model_.get_weights())\n",
        "\n",
        "      print(\"\\nTraining model no. {} for initial time {: 4.2f}, running over interval [{: 4.2f},{: 4.2f}] with lr={}.\\n\".format(k, t_init[0], t_min, t_max, lr_model[k-1]))\n",
        "\n",
        "    # Training for that epoch\n",
        "    for (pdes, inits) in ds:\n",
        "\n",
        "      # Train the network\n",
        "      PDEloss, ICloss, grads = train_network(pdes, inits, hs0, c, model)\n",
        "\n",
        "      # Gradient step\n",
        "      opt.apply_gradients(zip(grads, model.trainable_variables))\n",
        "\n",
        "      epoch_loss[i] += PDEloss + ICloss\n",
        "      nr_batches += 1\n",
        "\n",
        "    # Get total epoch loss\n",
        "    epoch_loss[i] /= nr_batches\n",
        "    nr_batches = 0\n",
        "\n",
        "    if (np.mod(i, 100)==0):\n",
        "      print(\"PDE loss, IV loss in {}th epoch: {: 6.4f}, {: 6.4f}.\".format(i, PDEloss, ICloss))\n",
        "\n",
        "  # Add the last model\n",
        "  fname = \"model\" + str(k) + \".h5\"\n",
        "  model.save(fname)\n",
        "\n",
        "  return epoch_loss, k"
      ],
      "execution_count": null,
      "outputs": []
    },
    {
      "cell_type": "markdown",
      "metadata": {
        "id": "rum_XqTn-VKH"
      },
      "source": [
        "### Train and visualize"
      ]
    },
    {
      "cell_type": "code",
      "metadata": {
        "id": "N6nhZ_OVpaYF"
      },
      "source": [
        "epochs = 15000\n",
        "loss, nr_models = PINNtrain(pdes, f, inits, hs0, c, epochs)"
      ],
      "execution_count": null,
      "outputs": []
    },
    {
      "cell_type": "code",
      "metadata": {
        "id": "f8GJEJpGrCyy"
      },
      "source": [
        "def moving_average(x, w):\n",
        "    return np.convolve(x, np.ones(w), 'valid') / w"
      ],
      "execution_count": null,
      "outputs": []
    },
    {
      "cell_type": "code",
      "metadata": {
        "id": "WWUTRfLXlKFq"
      },
      "source": [
        "steps = 101\n",
        "plt.semilogy(range(steps//2, epochs-steps//2), moving_average(loss, steps))\n",
        "plt.xlabel('Epochs')\n",
        "plt.ylabel('Total loss')\n",
        "plt.grid()\n",
        "\n",
        "# fname = 'Loss_Williamson_' + str(williamson) + '_epochs' + str(epochs) + '.png'\n",
        "# plt.savefig(fname)\n",
        "# files.download(fname)"
      ],
      "execution_count": null,
      "outputs": []
    },
    {
      "cell_type": "code",
      "metadata": {
        "id": "i1woqvCD-hlk"
      },
      "source": [
        "# Composite prediction function\n",
        "def predict(nr_models,t,x,y):\n",
        "  \n",
        "  total_steps = len(t)\n",
        "  steps_per_model = total_steps//nr_models\n",
        "  u = np.zeros((total_steps, 1))\n",
        "  v = np.zeros((total_steps, 1)) \n",
        "  h = np.zeros((total_steps, 1))\n",
        "  uy = np.zeros((total_steps, 1))\n",
        "  vx = np.zeros((total_steps, 1)) \n",
        "\n",
        "  for i in range(nr_models):\n",
        "    curr_model = \"model\" + str(i+1) + '.h5'\n",
        "    model = tf.keras.models.load_model(curr_model, custom_objects={'Normalize': Normalize, \n",
        "                                                                   'PeriodicSphere': PeriodicSphere})\n",
        "    \n",
        "    tt = tf.Variable(t[i*steps_per_model:(i+1)*steps_per_model,])\n",
        "    xx = tf.Variable(x[i*steps_per_model:(i+1)*steps_per_model,])\n",
        "    yy = tf.Variable(y[i*steps_per_model:(i+1)*steps_per_model,])\n",
        "\n",
        "    with tf.GradientTape(persistent=True) as tape:\n",
        "      uvh = model([tt,xx,yy])\n",
        "      uu, vv, hh = uvh[:,:1], uvh[:,1:2], uvh[:,2:]\n",
        "\n",
        "    u[i*steps_per_model:(i+1)*steps_per_model,:] = uu\n",
        "    v[i*steps_per_model:(i+1)*steps_per_model,:] = vv\n",
        "    h[i*steps_per_model:(i+1)*steps_per_model,:] = hh    \n",
        "    uy[i*steps_per_model:(i+1)*steps_per_model,:] = tape.gradient(uu, yy)\n",
        "    vx[i*steps_per_model:(i+1)*steps_per_model,:] = tape.gradient(vv, xx)\n",
        "    \n",
        "  return u, v, h, uy, vx"
      ],
      "execution_count": null,
      "outputs": []
    },
    {
      "cell_type": "code",
      "metadata": {
        "id": "wqonpX92uh23"
      },
      "source": [
        "# Grid where to evaluate the model\n",
        "l, m, n = days+1, 150, 75\n",
        "t = np.linspace(t0, tfinal, l)\n",
        "x = np.linspace(lmbdleft, lmbdright, m)\n",
        "y = np.linspace(thtlower, thtupper, n)\n",
        "T_p, X_p, Y_p  = np.meshgrid(t,x,y, indexing='ij')\n",
        "\n",
        "dt = t[1]-t[0]\n",
        "\n",
        "tt = np.expand_dims(T_p.flatten(), axis=1)\n",
        "xx = np.expand_dims(X_p.flatten(), axis=1)\n",
        "yy = np.expand_dims(Y_p.flatten(), axis=1)\n",
        "\n",
        "u, v, h, u_y, v_x = predict(nr_models,tt,xx,yy)\n",
        "u, v, h = np.reshape(u, (l, m, n)), np.reshape(v, (l, m, n)), np.reshape(h, (l, m, n))\n",
        "u_y, v_x = np.reshape(u_y, (l, m, n)), np.reshape(v_x, (l, m, n))\n",
        "hs = hs0(X_p, Y_p) \n",
        "\n",
        "# Conserved quantities\n",
        "\n",
        "# PE\n",
        "pvv = ((v_x - u_y + 2*Omega*T*np.sin(Y_p)**2)/h).numpy()\n",
        "pvv = U*pvv/H\n",
        "pv = pvv.sum(axis=(1,2))\n",
        "\n",
        "# Mass\n",
        "mass = H*h.sum(axis=(1,2))\n",
        "\n",
        "# Energy\n",
        "energy = 0.5*H*U**2*((h-hs.numpy())*(u**2+v**2))+0.5*H**2*(h**2-hs.numpy()**2)\n",
        "energy = energy.sum(axis=(1,2))"
      ],
      "execution_count": null,
      "outputs": []
    },
    {
      "cell_type": "code",
      "metadata": {
        "id": "fjO7OH4GC3xt"
      },
      "source": [
        "plot_steps = [i for i in range(l)]\n",
        "for i in plot_steps:\n",
        "  plt.figure(figsize=(21,5))\n",
        "  plt.subplot(131)\n",
        "  plt.contourf(X_p[i,], Y_p[i,], H*h[i,], np.linspace(990,3010, 21), cmap=plt.cm.coolwarm,\n",
        "               vmin=H*h[i,].min(), vmax=H*h[i,].max())\n",
        "  plt.colorbar(ticks=[1000+500*j for j in range(8)])\n",
        "  plt.title('Solution for h on day{: 2.0f}'.format(i*dt))\n",
        "  plt.xlabel(r'$\\lambda$')\n",
        "  plt.ylabel(r'$\\theta$')\n",
        "\n",
        "  plt.subplot(132)\n",
        "  plt.contourf(X_p[i,], Y_p[i,], U*u[i,], np.linspace(0,40, 21), cmap=plt.cm.coolwarm,\n",
        "               vmin=U*u[i,].min(), vmax=U*u[i,].max())\n",
        "  plt.colorbar(ticks=[10*j for j in range(5)])\n",
        "  plt.title('Solution for u on day{: 2.0f}'.format(i*dt))\n",
        "  plt.xlabel(r'$\\lambda$')\n",
        "  plt.ylabel(r'$\\theta$')\n",
        "\n",
        "  plt.subplot(133)\n",
        "  plt.contourf(X_p[i,], Y_p[i,], U*v[i,], 21, cmap=plt.cm.coolwarm,\n",
        "               vmin=U*v[i,].min(), vmax=U*v[i,].max())\n",
        "  plt.colorbar()\n",
        "  plt.title('Solution for v on day{: 2.0f}'.format(i*dt))\n",
        "  plt.xlabel(r'$\\lambda$')\n",
        "  plt.ylabel(r'$\\theta$')\n",
        "\n",
        "  plt.show()"
      ],
      "execution_count": null,
      "outputs": []
    },
    {
      "cell_type": "code",
      "metadata": {
        "id": "v24RS4o_Kcwy"
      },
      "source": [
        "htrue = h0(X_p[0,], Y_p[0,])\n",
        "utrue = u0(X_p[0,], Y_p[0,])\n",
        "vtrue = v0(X_p[0,], Y_p[0,])\n",
        "\n",
        "l2_h = np.zeros(l)\n",
        "linfty_h = np.zeros(l)\n",
        "l2_v = np.zeros(l)\n",
        "linfty_v = np.zeros(l)\n",
        "\n",
        "for i in range(l):\n",
        "  l2_h[i] = np.sqrt(np.sum(np.square(h[i,] - htrue)*np.cos(Y_p[0,]))/np.sum(np.square(htrue)*np.cos(Y_p[0,])))\n",
        "  linfty_h[i] = np.max(np.abs(h[i,] - htrue))/np.max(np.abs(htrue))\n",
        "\n",
        "  l2_v[i] = np.sqrt(np.sum( (np.square(u[i,] - utrue) + np.square(v[i,] - vtrue) )*np.cos(Y_p[0,]) )/np.sum( (np.square(utrue) + np.square(vtrue) )*np.cos(Y_p[0,])))\n",
        "  linfty_v[i] = np.max(np.sqrt( np.square(u[i,] - utrue) + np.square(v[i,] - vtrue) ))/np.max(np.sqrt(np.square(utrue) + np.square(vtrue)))\n",
        "\n",
        "print(\"Final l_2 error h: {:4.2e}\".format(l2_h[-1]))\n",
        "print(\"Final l_infty error h: {:4.2e}\".format(linfty_h[-1]))\n",
        "print(\"Final l_2 error v: {:4.2e}\".format(l2_v[-1]))\n",
        "print(\"Final l_infty error v: {:4.2e}\".format(linfty_v[-1]))\n",
        "\n",
        "t = np.linspace(0, tfinal, l)\n",
        "plt.plot(t, l2_h)\n",
        "plt.plot(t, linfty_h)\n",
        "plt.xlabel('t')\n",
        "plt.ylabel(r'Relative error for h')\n",
        "plt.legend([r'$l_2$', r'$l_\\infty$'])\n",
        "plt.grid()\n",
        "\n",
        "plt.figure()\n",
        "plt.plot(t, l2_v)\n",
        "plt.plot(t, linfty_v)\n",
        "plt.xlabel('t')\n",
        "plt.ylabel(r'Relative error for $\\mathbf{v}$')\n",
        "plt.legend([r'$l_2$', r'$l_\\infty$'])\n",
        "plt.grid()\n"
      ],
      "execution_count": null,
      "outputs": []
    },
    {
      "cell_type": "code",
      "metadata": {
        "id": "9cDwutH-4HF2"
      },
      "source": [
        "t = np.linspace(0, tfinal, l)\n",
        "\n",
        "plt.figure(figsize=(21, 5))\n",
        "\n",
        "ax1 = plt.subplot(131)\n",
        "rmass = (mass-mass[0])/mass[0]\n",
        "plt.plot(t, rmass)\n",
        "plt.xlabel('t [days]')\n",
        "plt.ylabel(r'$(M-M_0)/M_0$')\n",
        "plt.axis([0,tfinal,rmass.min(), rmass.max()])\n",
        "plt.grid()\n",
        "ax1.ticklabel_format(axis='y',style='sci',scilimits=(0,0))\n",
        "\n",
        "ax2 = plt.subplot(132)\n",
        "renergy = (energy-energy[0])/energy[0]\n",
        "plt.plot(t, renergy)\n",
        "plt.xlabel('t [days]')\n",
        "plt.ylabel(r'$(E-E_0)/E_0$')\n",
        "plt.axis([0,tfinal,renergy.min(), renergy.max()])\n",
        "plt.grid()\n",
        "ax2.ticklabel_format(axis='y',style='sci',scilimits=(0,0))\n",
        "\n",
        "ax3 = plt.subplot(133)\n",
        "rpv = (pv-pv[0])/pv[0]\n",
        "plt.plot(t, rpv)\n",
        "plt.xlabel('t [days]')\n",
        "plt.ylabel(r'$(PE-PE_0)/PE_0$')\n",
        "plt.axis([0,tfinal,rpv.min(), rpv.max()])\n",
        "plt.grid()\n",
        "ax3.ticklabel_format(axis='y',style='sci',scilimits=(0,0))\n",
        "\n",
        "fname = 'CLs_Williamson_' + str(williamson) + '_epochs' + str(epochs) + '.png'\n",
        "plt.savefig(fname)\n",
        "files.download(fname)"
      ],
      "execution_count": null,
      "outputs": []
    },
    {
      "cell_type": "code",
      "metadata": {
        "id": "hXRNLg8hehO2"
      },
      "source": [
        "# Grid where to evaluate the model\n",
        "l, m, n = days*10, 150, 75\n",
        "t = np.linspace(t0, tfinal, l)\n",
        "x = np.linspace(lmbdleft, lmbdright, m)\n",
        "y = np.linspace(thtlower, thtupper, n)\n",
        "T_p, X_p, Y_p  = np.meshgrid(t,x,y, indexing='ij')\n",
        "\n",
        "dt = t[1]-t[0]\n",
        "\n",
        "tt = np.expand_dims(T_p.flatten(), axis=1)\n",
        "xx = np.expand_dims(X_p.flatten(), axis=1)\n",
        "yy = np.expand_dims(Y_p.flatten(), axis=1)\n",
        "\n",
        "u, v, h, u_y, v_x = predict(nr_models,tt,xx,yy)\n",
        "u, v, h = np.reshape(u, (l, m, n)), np.reshape(v, (l, m, n)), np.reshape(h, (l, m, n))\n",
        "# u_y, v_x = np.reshape(u_y, (l, m, n)), np.reshape(v_x, (l, m, n))\n",
        "\n",
        "filenames = []\n",
        "for i in range(l):\n",
        "\n",
        "  plt.figure(figsize=(21,5))\n",
        "  plt.subplot(131)\n",
        "  plt.contourf(X_p[i,], Y_p[i,], H*h[i,], np.linspace(8000,11000, 31), cmap=plt.cm.coolwarm,\n",
        "               vmin=H*h[i,].min(), vmax=H*h[i,].max())\n",
        "  plt.colorbar(ticks=[8000+500*j for j in range(7)])\n",
        "  plt.title('Solution for h on day{: 2.2f}'.format(i*dt))\n",
        "  plt.xlabel(r'$\\lambda$')\n",
        "  plt.ylabel(r'$\\theta$')\n",
        "\n",
        "  plt.subplot(132)\n",
        "  plt.contourf(X_p[i,], Y_p[i,], U*u[i,], np.linspace(-10,100, 11), cmap=plt.cm.coolwarm,\n",
        "               vmin=U*u[i,].min(), vmax=U*u[i,].max())\n",
        "  plt.colorbar(ticks=[20*j for j in range(6)])\n",
        "  plt.title('Solution for u on day{: 2.2f}'.format(i*dt))\n",
        "  plt.xlabel(r'$\\lambda$')\n",
        "  plt.ylabel(r'$\\theta$')\n",
        "\n",
        "  plt.subplot(133)\n",
        "  plt.contourf(X_p[i,], Y_p[i,], U*v[i,], np.linspace(-70,70,15), cmap=plt.cm.coolwarm,\n",
        "               vmin=U*v[i,].min(), vmax=U*v[i,].max())\n",
        "  plt.colorbar(ticks=[60-20*j for j in range(8)])\n",
        "  plt.title('Solution for v on day{: 2.2f}'.format(i*dt))\n",
        "  plt.xlabel(r'$\\lambda$')\n",
        "  plt.ylabel(r'$\\theta$')\n",
        "\n",
        "  filename = f'{i}.png'\n",
        "  filenames.append(filename)\n",
        "  plt.savefig(filename)\n",
        "  plt.close()\n",
        "\n",
        "with imageio.get_writer('NonlinearFlow.gif', mode='I') as writer:\n",
        "    for filename in filenames:\n",
        "        image = imageio.imread(filename)\n",
        "        writer.append_data(image)\n",
        "\n",
        "for filename in set(filenames):\n",
        "  os.remove(filename)"
      ],
      "execution_count": null,
      "outputs": []
    }
  ]
}